{
  "nbformat": 4,
  "nbformat_minor": 0,
  "metadata": {
    "colab": {
      "provenance": [],
      "toc_visible": true
    },
    "kernelspec": {
      "name": "python3",
      "display_name": "Python 3"
    },
    "language_info": {
      "name": "python"
    }
  },
  "cells": [
    {
      "cell_type": "code",
      "source": [
        "!pip install flask"
      ],
      "metadata": {
        "colab": {
          "base_uri": "https://localhost:8080/"
        },
        "id": "bxK_DwPedMJL",
        "outputId": "869c85df-57e9-4434-ac22-2317aaeda13d"
      },
      "execution_count": 2,
      "outputs": [
        {
          "output_type": "stream",
          "name": "stdout",
          "text": [
            "Requirement already satisfied: flask in /usr/local/lib/python3.10/dist-packages (3.1.0)\n",
            "Requirement already satisfied: Werkzeug>=3.1 in /usr/local/lib/python3.10/dist-packages (from flask) (3.1.3)\n",
            "Requirement already satisfied: Jinja2>=3.1.2 in /usr/local/lib/python3.10/dist-packages (from flask) (3.1.4)\n",
            "Requirement already satisfied: itsdangerous>=2.2 in /usr/local/lib/python3.10/dist-packages (from flask) (2.2.0)\n",
            "Requirement already satisfied: click>=8.1.3 in /usr/local/lib/python3.10/dist-packages (from flask) (8.1.7)\n",
            "Requirement already satisfied: blinker>=1.9 in /usr/local/lib/python3.10/dist-packages (from flask) (1.9.0)\n",
            "Requirement already satisfied: MarkupSafe>=2.0 in /usr/local/lib/python3.10/dist-packages (from Jinja2>=3.1.2->flask) (3.0.2)\n"
          ]
        }
      ]
    },
    {
      "cell_type": "code",
      "execution_count": 3,
      "metadata": {
        "colab": {
          "base_uri": "https://localhost:8080/"
        },
        "id": "WhhYUnswaI22",
        "outputId": "62d39897-b2b0-4643-da9c-9223d164a9ea"
      },
      "outputs": [
        {
          "output_type": "stream",
          "name": "stdout",
          "text": [
            "Collecting flask_ngrok\n",
            "  Downloading flask_ngrok-0.0.25-py3-none-any.whl.metadata (1.8 kB)\n",
            "Requirement already satisfied: Flask>=0.8 in /usr/local/lib/python3.10/dist-packages (from flask_ngrok) (3.1.0)\n",
            "Requirement already satisfied: requests in /usr/local/lib/python3.10/dist-packages (from flask_ngrok) (2.32.3)\n",
            "Requirement already satisfied: Werkzeug>=3.1 in /usr/local/lib/python3.10/dist-packages (from Flask>=0.8->flask_ngrok) (3.1.3)\n",
            "Requirement already satisfied: Jinja2>=3.1.2 in /usr/local/lib/python3.10/dist-packages (from Flask>=0.8->flask_ngrok) (3.1.4)\n",
            "Requirement already satisfied: itsdangerous>=2.2 in /usr/local/lib/python3.10/dist-packages (from Flask>=0.8->flask_ngrok) (2.2.0)\n",
            "Requirement already satisfied: click>=8.1.3 in /usr/local/lib/python3.10/dist-packages (from Flask>=0.8->flask_ngrok) (8.1.7)\n",
            "Requirement already satisfied: blinker>=1.9 in /usr/local/lib/python3.10/dist-packages (from Flask>=0.8->flask_ngrok) (1.9.0)\n",
            "Requirement already satisfied: charset-normalizer<4,>=2 in /usr/local/lib/python3.10/dist-packages (from requests->flask_ngrok) (3.4.0)\n",
            "Requirement already satisfied: idna<4,>=2.5 in /usr/local/lib/python3.10/dist-packages (from requests->flask_ngrok) (3.10)\n",
            "Requirement already satisfied: urllib3<3,>=1.21.1 in /usr/local/lib/python3.10/dist-packages (from requests->flask_ngrok) (2.2.3)\n",
            "Requirement already satisfied: certifi>=2017.4.17 in /usr/local/lib/python3.10/dist-packages (from requests->flask_ngrok) (2024.12.14)\n",
            "Requirement already satisfied: MarkupSafe>=2.0 in /usr/local/lib/python3.10/dist-packages (from Jinja2>=3.1.2->Flask>=0.8->flask_ngrok) (3.0.2)\n",
            "Downloading flask_ngrok-0.0.25-py3-none-any.whl (3.1 kB)\n",
            "Installing collected packages: flask_ngrok\n",
            "Successfully installed flask_ngrok-0.0.25\n"
          ]
        }
      ],
      "source": [
        "!pip install flask_ngrok"
      ]
    },
    {
      "cell_type": "code",
      "source": [
        "from flask import *\n",
        "import pandas as pd\n",
        "from flask_ngrok import run_with_ngrok\n",
        "from flask import request, jsonify, Flask\n",
        "import random\n",
        "\n",
        "# app = Flask(__name__)\n",
        "# @app.route(\"/index\")\n",
        "# def home():\n",
        "#   return \"Hello world\""
      ],
      "metadata": {
        "id": "o3zJUPHUaaWa"
      },
      "execution_count": 16,
      "outputs": []
    },
    {
      "cell_type": "code",
      "source": [
        "app = Flask(__name__)\n",
        "run_with_ngrok(app)\n",
        "@app.route(\"/index\")\n",
        "def home():\n",
        "  return \"Hello world\"\n",
        "  app.run"
      ],
      "metadata": {
        "id": "4qjHb55gazKB"
      },
      "execution_count": 19,
      "outputs": []
    },
    {
      "cell_type": "code",
      "source": [
        "d = [{\n",
        "    \"Numero\": 1,\n",
        "    \"Nome\": \"Mahesh\",\n",
        "    \"Idade\": 25,\n",
        "    \"Cidade\": \"Bangalore\",\n",
        "    \"Pais\": \"India\",\n",
        "    },\n",
        "     {\n",
        "    \"Numero\": 2,\n",
        "    \"Nome\": \"Alex\",\n",
        "    \"Idade\": 26,\n",
        "    \"Cidade\": \"Londres\",\n",
        "    \"Pais\": \"Reino Unido\",\n",
        "    },\n",
        "     {\n",
        "    \"Numero\": 3,\n",
        "    \"Nome\": \"David\",\n",
        "    \"Idade\": 27,\n",
        "    \"Cidade\": \"San Francisco\",\n",
        "    \"Pais\": \"USA\",\n",
        "    },\n",
        "     {\n",
        "    \"Numero\": 4,\n",
        "    \"Nome\": \"John\",\n",
        "    \"Idade\": 28,\n",
        "    \"Cidade\": \"Toronto\",\n",
        "    \"Pais\": \"Canada\",\n",
        "    },\n",
        "    {\n",
        "    \"Numero\": 5,\n",
        "    \"Nome\": \"Chris\",\n",
        "    \"Idade\": 29,\n",
        "    \"Cidade\": \"Paris\",\n",
        "    \"Pais\": \"França\",\n",
        "    }\n",
        "]"
      ],
      "metadata": {
        "id": "1Pg5-uewfG06"
      },
      "execution_count": 7,
      "outputs": []
    },
    {
      "cell_type": "code",
      "source": [
        "import flask\n",
        "@app.route(\"/\")\n",
        "def index():\n",
        "    return \"<marquee><h3> TO CHECK IN PUT ADD '/input' TO THE URL AND TO CHECK OUT PUT ADD '/output' TO THE URL.</h3></marquee>\""
      ],
      "metadata": {
        "id": "ZHQ1JytzdIEM"
      },
      "execution_count": 22,
      "outputs": []
    },
    {
      "cell_type": "code",
      "source": [
        "@app.route(\"/input\")\n",
        "def input():\n",
        "  return jsonify(d)"
      ],
      "metadata": {
        "id": "SXXgexnrdm0s"
      },
      "execution_count": null,
      "outputs": []
    },
    {
      "cell_type": "code",
      "source": [
        "def predJson():\n",
        " pred = r.choice([\"positive\",\"negative\"])\n",
        " nd = d # our input\n",
        " nd[\"prediction\"]=pred\n",
        " return jsonify(nd)\n",
        "\n",
        " app.run()"
      ],
      "metadata": {
        "id": "3DFuyzuQa3be"
      },
      "execution_count": 21,
      "outputs": []
    }
  ]
}